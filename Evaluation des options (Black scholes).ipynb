{
 "cells": [
  {
   "cell_type": "markdown",
   "id": "d727c4f3-a673-4ece-9865-b1de3d0a4e97",
   "metadata": {},
   "source": [
    "**Evaluation des options**"
   ]
  },
  {
   "cell_type": "code",
   "execution_count": 3,
   "id": "0ed86a7e-ad41-45b1-a3db-6860b0d38548",
   "metadata": {},
   "outputs": [],
   "source": [
    "#les packages\n",
    "import numpy as np\n",
    "import scipy.stats as scs"
   ]
  },
  {
   "cell_type": "code",
   "execution_count": 4,
   "id": "bcceb512-a496-4b3a-af96-f2a07df0d1ce",
   "metadata": {},
   "outputs": [],
   "source": [
    "# Paramètres\n",
    "S0 = 100\n",
    "X = 100\n",
    "sigma = 0.2\n",
    "T = 1\n",
    "rf = 0.05\n",
    "Y = 0.0"
   ]
  },
  {
   "cell_type": "code",
   "execution_count": 6,
   "id": "930ca5d5-5b99-4d1c-a42e-0ecd8c8e23c8",
   "metadata": {},
   "outputs": [
    {
     "data": {
      "text/plain": [
       "array([5.57352602, 0.44038231])"
      ]
     },
     "execution_count": 6,
     "metadata": {},
     "output_type": "execute_result"
    }
   ],
   "source": [
    "# MODELE DE BLACK SCHOLES\n",
    "def Option_euro(S0, X, Sigma, T, rf, Y, Choix_option):\n",
    "    d1 = (np.log(S0 / X) + (rf - Y + 0.5 * Sigma**2) * T) / (Sigma * np.sqrt(T))\n",
    "    d2 = d1 - Sigma * np.sqrt(T)\n",
    "    Nd1 = scs.norm.cdf(d1, 0, 1)\n",
    "    N_moins_d1 = scs.norm.cdf(-d1, 0, 1)\n",
    "    Nd2 = scs.norm.cdf(d2, 0, 1)\n",
    "    N_moins_d2 = scs.norm.cdf(-d2, 0, 1)\n",
    "    if Choix_option == \"Call\":\n",
    "        prix = S0 * np.exp(-Y * T) * Nd1 - X * np.exp(-rf * T) * Nd2\n",
    "        proba = Nd2\n",
    "    elif Choix_option == \"Putt\":\n",
    "        prix = X * np.exp(-rf * T) * N_moins_d2 - S0 * np.exp(-Y * T) * N_moins_d1\n",
    "        proba = N_moins_d2\n",
    "    return np.array([prix, proba])  \n",
    "# Résultats\n",
    "Option_euro(S0, X, sigma, T, rf, Y, \"Putt\") "
   ]
  },
  {
   "cell_type": "code",
   "execution_count": null,
   "id": "c365c523-e659-46df-b92c-98214d06718b",
   "metadata": {},
   "outputs": [],
   "source": []
  }
 ],
 "metadata": {
  "kernelspec": {
   "display_name": "anaconda-2024.02-py310",
   "language": "python",
   "name": "conda-env-anaconda-2024.02-py310-py"
  },
  "language_info": {
   "codemirror_mode": {
    "name": "ipython",
    "version": 3
   },
   "file_extension": ".py",
   "mimetype": "text/x-python",
   "name": "python",
   "nbconvert_exporter": "python",
   "pygments_lexer": "ipython3",
   "version": "3.10.14"
  }
 },
 "nbformat": 4,
 "nbformat_minor": 5
}
